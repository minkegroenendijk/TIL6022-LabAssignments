{
 "cells": [
  {
   "cell_type": "markdown",
   "id": "ba7a5dd8",
   "metadata": {},
   "source": [
    "Import relevant packages here."
   ]
  },
  {
   "cell_type": "code",
   "execution_count": 14,
   "id": "6a8838bb",
   "metadata": {},
   "outputs": [],
   "source": [
    "import matplotlib.pyplot as plt\n",
    "import numpy as np\n",
    "import pandas as pd"
   ]
  },
  {
   "cell_type": "markdown",
   "id": "1725519c",
   "metadata": {},
   "source": [
    "Load the data and verify it is loaded correctly.\n",
    "<ul>\n",
    "    <li>Print it (head, tail, or specific rows, choose a sensible number of rows).</li>\n",
    "    <li>Compare it to the source file.</li>\n",
    "<ul>"
   ]
  },
  {
   "cell_type": "code",
   "execution_count": 15,
   "id": "aa4d5e37",
   "metadata": {},
   "outputs": [
    {
     "name": "stdout",
     "output_type": "stream",
     "text": [
      "         dv        s         a\n",
      "0 -0.743240  53.5427  1.242570\n",
      "1 -0.557230  53.6120  1.777920\n",
      "2 -0.454769  53.6541  0.544107\n",
      "3 -0.525396  53.7030 -0.294755\n",
      "4 -0.601285  53.7592 -0.290961\n",
      "            dv        s         a\n",
      "73903  5.19874  116.139 -0.795081\n",
      "73904  5.10428  115.627 -0.314263\n",
      "73905  5.13764  115.118  0.232283\n",
      "73906  5.15348  114.599  0.262078\n",
      "73907  5.25868  113.112 -0.612440\n"
     ]
    }
   ],
   "source": [
    "data = pd.read_csv('cf_data.csv')\n",
    "\n",
    "print(data.head())\n",
    "print(data.tail())"
   ]
  },
  {
   "cell_type": "markdown",
   "id": "0f6d5753",
   "metadata": {},
   "source": [
    "In the ensuing, you will use <code>numpy</code>.\n",
    "\n",
    "Let's create a grid for the values to plot. But first create <b>two arrays named <code>dv</code> and <code>s</code></b> using <code>numpy.linspace</code> that hold the grid values at the relevant indices in their respective dimension of the grid.\n",
    "\n",
    "Create a <b>grid named <code>a</code></b> with zeros using <code>numpy.zeros</code> in to which calculated acceleration values can be stored.<br>\n",
    "<br>\n",
    "Let the grid span:<br>\n",
    "<ul>\n",
    "    <li>Speed difference <code>dv</code> [m/s]\n",
    "        <ul>\n",
    "            <li>From -10 till 10</li>\n",
    "            <li>With 41 evenly spaced values</li>\n",
    "        </ul>\n",
    "    </li>\n",
    "    <li>Headway <code>s</code> [m]\n",
    "        <ul>\n",
    "            <li>From 0 till 200</li>\n",
    "            <li>With 21 evenly spaced values</li>\n",
    "        </ul>\n",
    "    </li>\n",
    "</ul>"
   ]
  },
  {
   "cell_type": "code",
   "execution_count": 16,
   "id": "2d52276f",
   "metadata": {},
   "outputs": [],
   "source": [
    "dv = np.linspace(-10, 11, 41)  \n",
    "s = np.linspace(0, 201, 21)   \n",
    "a = np.zeros((len(dv), len(s)))  "
   ]
  },
  {
   "cell_type": "markdown",
   "id": "fedab6cf",
   "metadata": {},
   "source": [
    "Create from the imported data 3 separate <code>numpy</code> arrays for each column <code>dv</code>, <code>s</code> and <code>a</code>. (We do this for speed reasons later.)\n",
    "<ul>\n",
    "    <li>Make sure to name them differently from the arrays that belong to the grid as above.</li>\n",
    "    <li>You can access the data of each column in a <code>DataFrame</code> using <code>data.xxx</code> where <code>xxx</code> is the column name (not as a string).</li>\n",
    "    <li>Use the method <code>to_numpy()</code> to convert a column to a <code>numpy</code> array.</li>\n",
    "</ul>"
   ]
  },
  {
   "cell_type": "code",
   "execution_count": 17,
   "id": "1058fc26",
   "metadata": {},
   "outputs": [],
   "source": [
    "DV = data.dv.to_numpy()\n",
    "S = data.s.to_numpy()\n",
    "A = data.a.to_numpy()"
   ]
  },
  {
   "cell_type": "markdown",
   "id": "bbf1585a",
   "metadata": {},
   "source": [
    "Create an algorithm that calculates all the acceleration values and stores them in the grid. The algorithm is described visually in the last part of the lecture. At each grid point, it calculates a weighted mean of all measurements. The weights are given by an exponential function, based on the 'distance' between the grid point, and the measurement values of <code>dv</code> and <code>s</code>. To get you started, how many <code>for</code>-loops do you need?<br>\n",
    "<br>\n",
    "For this you will need <code>math</code>.<br>\n",
    "Use an <i>upsilon</i> of 1.5m/s and a <i>sigma</i> of 30m.<br>\n",
    "<br>\n",
    "<b>Warning:</b> This calculation may take some time. So:\n",
    "<ul>\n",
    "    <li>Print a line for each iteration of the outer-most <code>for</code>-loop that shows you the progress.</li>\n",
    "    <li>Test you code by running it only on the first 50 measurements of the data.</li>\n",
    "</ul>"
   ]
  },
  {
   "cell_type": "markdown",
   "id": "52cbac3a",
   "metadata": {},
   "source": [
    "The following code will plot the data for you. Does it make sense when considering:\n",
    "<ul>\n",
    "    <li>Negative (slower than leader) and positive (faster than leader) speed differences?</li>\n",
    "    <li>Small and large headways?</li>\n",
    "</ul>"
   ]
  },
  {
   "cell_type": "code",
   "execution_count": 30,
   "id": "c00f3b17",
   "metadata": {},
   "outputs": [
    {
     "name": "stdout",
     "output_type": "stream",
     "text": [
      "Now processing grid point 1/41.\n",
      "Now processing grid point 2/41.\n",
      "Now processing grid point 3/41.\n",
      "Now processing grid point 4/41.\n",
      "Now processing grid point 5/41.\n",
      "Now processing grid point 6/41.\n",
      "Now processing grid point 7/41.\n",
      "Now processing grid point 8/41.\n",
      "Now processing grid point 9/41.\n",
      "Now processing grid point 10/41.\n",
      "Now processing grid point 11/41.\n",
      "Now processing grid point 12/41.\n",
      "Now processing grid point 13/41.\n",
      "Now processing grid point 14/41.\n",
      "Now processing grid point 15/41.\n",
      "Now processing grid point 16/41.\n",
      "Now processing grid point 17/41.\n",
      "Now processing grid point 18/41.\n",
      "Now processing grid point 19/41.\n",
      "Now processing grid point 20/41.\n",
      "Now processing grid point 21/41.\n",
      "Now processing grid point 22/41.\n",
      "Now processing grid point 23/41.\n",
      "Now processing grid point 24/41.\n",
      "Now processing grid point 25/41.\n",
      "Now processing grid point 26/41.\n",
      "Now processing grid point 27/41.\n",
      "Now processing grid point 28/41.\n",
      "Now processing grid point 29/41.\n",
      "Now processing grid point 30/41.\n",
      "Now processing grid point 31/41.\n",
      "Now processing grid point 32/41.\n",
      "Now processing grid point 33/41.\n",
      "Now processing grid point 34/41.\n",
      "Now processing grid point 35/41.\n",
      "Now processing grid point 36/41.\n",
      "Now processing grid point 37/41.\n",
      "Now processing grid point 38/41.\n",
      "Now processing grid point 39/41.\n",
      "Now processing grid point 40/41.\n",
      "Now processing grid point 41/41.\n"
     ]
    }
   ],
   "source": [
    "import numpy as np\n",
    "import math\n",
    "import matplotlib.pyplot as plt\n",
    "\n",
    "upsilon = 1.5  \n",
    "sigma = 30     \n",
    "\n",
    "for i in range(len(dv)):\n",
    "    print(f\"Now processing grid point {i + 1}/41.\")  \n",
    "    \n",
    "    for j in range(len(s)):\n",
    "        total_weighted_acc = 0\n",
    "        total_weight = 0\n",
    "        \n",
    "        for k in range(len(DV)):\n",
    "            weight_dv = math.exp(-abs(dv[i] - DV[k]) / upsilon)\n",
    "            weight_s = math.exp(-abs(s[j] - S[k]) / sigma)\n",
    "            \n",
    "            combined_weight = weight_dv * weight_s\n",
    "            \n",
    "            total_weighted_acc += combined_weight * A[k]\n",
    "            total_weight += combined_weight\n",
    "        \n",
    "        a[i, j] = total_weighted_acc / total_weight if total_weight != 0 else 0  # Prevent division by zero\n"
   ]
  },
  {
   "cell_type": "code",
   "execution_count": 31,
   "id": "978d6a5a",
   "metadata": {},
   "outputs": [
    {
     "data": {
      "image/png": "[encoded data removed]",
      "text/plain": [
       "<Figure size 1000x700 with 2 Axes>"
      ]
     },
     "metadata": {},
     "output_type": "display_data"
    }
   ],
   "source": [
    "X, Y = np.meshgrid(s, dv)\n",
    "axs = plt.axes()\n",
    "p = axs.pcolor(Y, X, a, shading='nearest')\n",
    "axs.set_title('Acceleration [m/s/s]')\n",
    "axs.set_xlabel('Speed difference [m/s]')\n",
    "axs.set_ylabel('Headway [m]')\n",
    "axs.figure.colorbar(p);\n",
    "axs.figure.set_size_inches(10, 7)"
   ]
  },
  {
   "cell_type": "code",
   "execution_count": null,
   "id": "2227ca0b",
   "metadata": {},
   "outputs": [],
   "source": []
  }
 ],
 "metadata": {
  "kernelspec": {
   "display_name": "Python 3 (ipykernel)",
   "language": "python",
   "name": "python3"
  },
  "language_info": {
   "codemirror_mode": {
    "name": "ipython",
    "version": 3
   },
   "file_extension": ".py",
   "mimetype": "text/x-python",
   "name": "python",
   "nbconvert_exporter": "python",
   "pygments_lexer": "ipython3",
   "version": "3.12.5"
  }
 },
 "nbformat": 4,
 "nbformat_minor": 5
}
